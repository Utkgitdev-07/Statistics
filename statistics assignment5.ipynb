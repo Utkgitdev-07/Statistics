{
 "cells": [
  {
   "cell_type": "code",
   "execution_count": null,
   "id": "981868c4-9d95-46d8-902c-9c1eaffae9f9",
   "metadata": {},
   "outputs": [],
   "source": [
    "#Q1: What is Estimation Statistics? Explain point estimate and interval estimate.\n",
    "\n",
    "#ANS--\n",
    "'''Estimation statistics is a branch of statistics that involves using data from a sample to make inferences about the population. The goal of estimation is to provide information about population parameters, such as the mean or proportion, based on a sample of data.\n",
    "\n",
    "There are two main types of estimates: point estimates and interval estimates.\n",
    "\n",
    "Point Estimate: A point estimate is a single value that is used to estimate a population parameter. It is obtained by using a sample statistic, such as the sample mean or sample proportion, to estimate the corresponding population parameter.\n",
    "\n",
    "Interval Estimate: An interval estimate, also called a confidence interval, is a range of values that is likely to contain the true population parameter with a certain level of confidence. It is obtained by using a sample statistic, such as the sample mean or sample proportion, to calculate an interval of values that is likely to contain the true population parameter.'''\n"
   ]
  },
  {
   "cell_type": "code",
   "execution_count": 1,
   "id": "5e53987d-bf98-40e0-b9ad-0f625f03b13f",
   "metadata": {},
   "outputs": [
    {
     "name": "stdout",
     "output_type": "stream",
     "text": [
      "Population mean: 2.0\n"
     ]
    }
   ],
   "source": [
    "#Q2. Write a Python function to estimate the population mean using a sample mean and standard deviation.\n",
    "#ANS--\n",
    "import math\n",
    "\n",
    "def population_mean(sample_mean, sample_std, sample_size):\n",
    "    std_error = sample_std / math.sqrt(sample_size)\n",
    "    z_value = 1.96 # assume a 95% confidence level and use the corresponding z-value\n",
    "    margin_of_error = z_value * std_error \n",
    "    lower_bound = sample_mean - margin_of_error \n",
    "    upper_bound = sample_mean + margin_of_error \n",
    "    return ((lower_bound + upper_bound) / 2)\n",
    "result = population_mean(2,5,20000)\n",
    "\n",
    "print(f\"Population mean: {result}\")"
   ]
  },
  {
   "cell_type": "code",
   "execution_count": null,
   "id": "f781d4d1-6ef3-4f58-b23b-bc3d5b6001b6",
   "metadata": {},
   "outputs": [],
   "source": [
    "#Q3: What is Hypothesis testing? Why is it used? State the importance of Hypothesis testing.\n",
    "#ANS--\n",
    "'''Hypothesis testing is a statistical method used to make decisions or draw conclusions about a population based on a sample of data. It involves comparing a hypothesis or claim about a population parameter (such as a mean or proportion) with the data from a sample, in order to determine if the hypothesis is likely to be true.\n",
    "\n",
    "Hypothesis testing is used to test the validity of a theory or claim.\n",
    "\n",
    "For example, in medical research, hypothesis testing can be used to determine if a new drug is effective in treating a disease by comparing its effects to a placebo. In business, hypothesis testing can be used to evaluate whether a new marketing strategy is effective in increasing sales.\n",
    "\n",
    "The importance of hypothesis testing lies in its ability to provide evidence for or against a theory or claim, and to help researchers make informed decisions based on data. It allows researchers to determine if an observed difference between groups or variables is statistically significant or simply due to chance, and to quantify the level of uncertainty in their findings. This can help researchers to draw conclusions that are based on evidence and minimize the risk of drawing incorrect or unsupported conclusions.'''\n"
   ]
  },
  {
   "cell_type": "code",
   "execution_count": null,
   "id": "b07afbe3-0896-49c2-b23f-fc8e7a8255a7",
   "metadata": {},
   "outputs": [],
   "source": [
    "#Q4. Create a hypothesis that states whether the average weight of male college students is greater than the average weight of female college students.\n",
    "#ANS--\n",
    "\n",
    "'''The null hypothesis would be:\n",
    "\n",
    "H0: The average weight of male college students is not greater than the average weight of female college students.\n",
    "\n",
    "The alternative hypothesis would be:\n",
    "\n",
    "H1: The average weight of male college students is greater than the average weight of female college students.'''\n"
   ]
  },
  {
   "cell_type": "code",
   "execution_count": 2,
   "id": "faba55bc-3c57-4dcb-9dca-324e9d455f3b",
   "metadata": {},
   "outputs": [
    {
     "name": "stdout",
     "output_type": "stream",
     "text": [
      "t-statistic:  -6.0458599200516305\n",
      "p-value:  7.273773033934159e-09\n",
      "Reject null hypothesis\n"
     ]
    }
   ],
   "source": [
    "#Q5. Write a Python script to conduct a hypothesis test on the difference between two population means, given a sample from each population.\n",
    "#ANS--\n",
    "import numpy as np\n",
    "from scipy.stats import ttest_ind\n",
    "\n",
    "# create two random samples\n",
    "sample1 = np.random.normal(10, 2, 100)\n",
    "sample2 = np.random.normal(12, 2, 100)\n",
    "\n",
    "# conduct t-test\n",
    "t_stat, p_val = ttest_ind(sample1, sample2)\n",
    "\n",
    "# print results\n",
    "print(\"t-statistic: \", t_stat)\n",
    "print(\"p-value: \", p_val)\n",
    "\n",
    "# check if p-value is significant at 5% level\n",
    "if p_val < 0.05:\n",
    "    print(\"Reject null hypothesis\")\n",
    "else:\n",
    "    print(\"Fail to reject null hypothesis\")"
   ]
  },
  {
   "cell_type": "code",
   "execution_count": null,
   "id": "d161b4c2-c0de-4b4e-97a1-5b9ccbfd4389",
   "metadata": {},
   "outputs": [],
   "source": [
    "#Q6: What is a null and alternative hypothesis? Give some examples.\n",
    "#ANS--\n",
    "'''The null hypothesis (H0) states that there is no significant difference between two populations or variables. It is often the default or conventional position and is tested against the alternative hypothesis. In other words, it is the claim that researchers aim to reject or fail to reject based on the evidence from the data.\n",
    "\n",
    "The alternative hypothesis (H1) is the complement of the null hypothesis and states that there is a significant difference between two populations or variables. It represents the claim that researchers seek to support or prove based on the evidence from the data.\n",
    "\n",
    "Examples:\n",
    "\n",
    "Null hypothesis: The average IQ scores of two groups of students are equal.\n",
    "Alternative hypothesis: The average IQ score of one group of students is significantly different from the other group.\n",
    "\n",
    "Null hypothesis: The new drug has no effect on curing a disease.\n",
    "Alternative hypothesis: The new drug is significantly more effective in curing the disease than the current drug.'''\n"
   ]
  },
  {
   "cell_type": "code",
   "execution_count": null,
   "id": "99884339-8ff1-4255-aab2-6cb22944b805",
   "metadata": {},
   "outputs": [],
   "source": [
    "#Q7: Write down the steps involved in hypothesis testing.\n",
    "#ANS--\n",
    "'''The general steps involved in hypothesis testing are:\n",
    "\n",
    "State the null and alternative hypotheses: Identify the research question and define the null and alternative hypotheses that represent the possible outcomes.\n",
    "Determine the test statistic: Choose an appropriate statistical test (e.g., t-test, ANOVA, chi-square) based on the research question and data type, and calculate the test statistic using the sample data.\n",
    "Set the significance level: Determine the level of significance (alpha) to use for the test. This is the probability of rejecting the null hypothesis when it is true and is typically set at 0.05.\n",
    "Calculate the p-value: Calculate the probability of observing the test statistic or a more extreme value under the null hypothesis.\n",
    "Make a decision: Compare the p-value to the significance level and make a decision whether to reject or fail to reject the null hypothesis. If the p-value is less than or equal to the significance level, reject the null hypothesis; otherwise, fail to reject the null hypothesis.'''\n"
   ]
  },
  {
   "cell_type": "code",
   "execution_count": null,
   "id": "fc00dd06-b935-4d19-ba8c-35275d3175c0",
   "metadata": {},
   "outputs": [],
   "source": [
    "#Q8. Define p-value and explain its significance in hypothesis testing.\n",
    "#ANS--\n",
    "'''The p-value in hypothesis testing is the probability of observing a test statistic or a more extreme value, given that the null hypothesis is true. In other words, it is the probability of obtaining the observed data or more extreme data if the null hypothesis is true.\n",
    "The p-value provides a measure of the strength of evidence against the null hypothesis. A small p-value indicates strong evidence against the null hypothesis, while a large p-value indicates weak evidence against the null hypothesis.\n",
    "\n",
    "The p-value is a key component of hypothesis testing because it helps researchers make decisions about the null hypothesis. If the p-value is small (e.g., less than or equal to the significance level), it suggests that the observed data is unlikely to have occurred by chance under the null hypothesis, and the null hypothesis is rejected. If the p-value is large (e.g., greater than the significance level), it suggests that the observed data is consistent with the null hypothesis, and the null hypothesis is not rejected.'''\n"
   ]
  },
  {
   "cell_type": "code",
   "execution_count": 3,
   "id": "fa823c4c-6fcb-46f5-8f25-94da260a1095",
   "metadata": {},
   "outputs": [
    {
     "data": {
      "text/plain": [
       "(array([1.68209073e-04, 3.36418146e-04, 3.36418146e-04, 1.00925444e-03,\n",
       "        2.52313609e-03, 6.05552663e-03, 2.01850888e-02, 5.56772031e-02,\n",
       "        1.26829641e-01, 2.46930919e-01, 3.53743680e-01, 3.69050706e-01,\n",
       "        2.61901527e-01, 1.40118158e-01, 6.02188481e-02, 2.18671795e-02,\n",
       "        8.91508087e-03, 4.37343590e-03, 1.68209073e-03, 1.68209073e-04]),\n",
       " array([-6.58289997, -5.98840171, -5.39390346, -4.79940521, -4.20490695,\n",
       "        -3.6104087 , -3.01591045, -2.42141219, -1.82691394, -1.23241569,\n",
       "        -0.63791744, -0.04341918,  0.55107907,  1.14557732,  1.74007558,\n",
       "         2.33457383,  2.92907208,  3.52357034,  4.11806859,  4.71256684,\n",
       "         5.3070651 ]),\n",
       " <BarContainer object of 20 artists>)"
      ]
     },
     "execution_count": 3,
     "metadata": {},
     "output_type": "execute_result"
    },
    {
     "data": {
      "image/png": "[encoded data removed]",
      "text/plain": [
       "<Figure size 640x480 with 1 Axes>"
      ]
     },
     "metadata": {},
     "output_type": "display_data"
    }
   ],
   "source": [
    "#Q9. Generate a Student's t-distribution plot using Python's matplotlib library, with the degrees of freedom parameter set to 10.\n",
    "#ANS--\n",
    "from scipy.stats import t\n",
    "import matplotlib.pyplot as plt\n",
    "\n",
    "#generate t distribution with sample size 10000\n",
    "x = t.rvs(df=10, size=10000)\n",
    "\n",
    "plt.hist(x, density=True, edgecolor='black', bins=20)"
   ]
  },
  {
   "cell_type": "code",
   "execution_count": 4,
   "id": "0b8240dc-b483-412b-a1c8-7dd16fc49c8c",
   "metadata": {},
   "outputs": [
    {
     "name": "stdout",
     "output_type": "stream",
     "text": [
      "t-test statistic: -5.100483127583199\n",
      "p-value: 7.903496028079932e-07\n",
      "Reject the null hypothesis\n"
     ]
    }
   ],
   "source": [
    "#Q10. Write a Python program to calculate the two-sample t-test for independent samples, given two random samples of equal size and a null hypothesis that the population means are equal.\n",
    "#ANS--\n",
    "import numpy as np\n",
    "from scipy.stats import ttest_ind\n",
    "\n",
    "sample1 = np.random.normal(10, 2, 100)\n",
    "sample2 = np.random.normal(12, 2, 100)\n",
    "\n",
    "#calculate the t-test statistic and p-value\n",
    "t_statistic, p_value = ttest_ind(sample1, sample2)\n",
    "\n",
    "print(\"t-test statistic:\", t_statistic)\n",
    "print(\"p-value:\", p_value)\n",
    "\n",
    "#compare the p-value to the significance level\n",
    "alpha = 0.05\n",
    "if p_value < alpha:\n",
    "    print(\"Reject the null hypothesis\")\n",
    "else:\n",
    "    print(\"Fail to reject the null hypothesis\")"
   ]
  },
  {
   "cell_type": "code",
   "execution_count": null,
   "id": "d40e70dc-a36d-4db6-9962-9cea9f564ea3",
   "metadata": {},
   "outputs": [],
   "source": [
    "#Q11: What is Student’s t distribution? When to use the t-Distribution.\n",
    "#ANS--\n",
    "'''Student's t distribution is a probability distribution that is used in hypothesis testing when the sample size is small and the population standard deviation is unknown.\n",
    "It is similar to the standard normal distribution (z-distribution), but has heavier tails, which means it has more probability in the tails and less in the center compared to the standard normal distribution. The shape of the t-distribution depends on the sample size, with smaller sample sizes resulting in a more spread-out distribution.\n",
    "\n",
    "3The t-distribution is used in situations where the population standard deviation is unknown and must be estimated from the sample data.\n",
    "It is also used when the sample size is small (typically less than 30) and the population is normally distributed. The t-distribution allows for greater uncertainty in the estimate of the population standard deviation due to the smaller sample size.'''\n",
    "\n"
   ]
  },
  {
   "cell_type": "code",
   "execution_count": null,
   "id": "c1e19233-a365-4892-9914-4fb51002332a",
   "metadata": {},
   "outputs": [],
   "source": [
    "#Q12: What is t-statistic? State the formula for t-statistic.\n",
    "#ANS--\n",
    "'''The t-statistic is a measure of how many standard errors the sample mean is from the hypothesized population mean, under the assumption that the population variance is unknown and must be estimated from the sample data. It is used in hypothesis testing to determine whether the difference between the sample mean and the hypothesized population mean is statistically significant.\n",
    "\n",
    "The formula for the t-statistic is:\n",
    "t = (x̄ - μ) / (s / √n)\n",
    "\n",
    "where:\n",
    "x̄ is the sample mean\n",
    "μ is the hypothesized population mean\n",
    "s is the sample standard deviation\n",
    "n is the sample size\n",
    "√n is the square root of the sample size'''\n"
   ]
  },
  {
   "cell_type": "code",
   "execution_count": null,
   "id": "a2ad4980-9e13-4ab0-8c40-6db0c96e30d1",
   "metadata": {},
   "outputs": [],
   "source": [
    "#Q13. A coffee shop owner wants to estimate the average daily revenue for their shop. They take a random\n",
    "#sample of 50 days and find the sample mean revenue to be $500 with a standard deviation of $50.\n",
    "#Estimate the population mean revenue with a 95% confidence interval.\n",
    "#ANS--\n",
    "'''To estimate the population mean revenue with a 95% confidence interval, we can use the following formula:\n",
    "\n",
    "Confidence Interval = sample mean ± margin of error\n",
    "\n",
    "where the margin of error is given by:\n",
    "\n",
    "Margin of Error = critical value * standard error\n",
    "\n",
    "The standard error is the standard deviation of the sample divided by the square root of the sample size:\n",
    "\n",
    "Standard Error = standard deviation / sqrt(sample size)\n",
    "\n",
    "Substituting the values given in the problem statement, we get:\n",
    "\n",
    "Standard Error = 50 / sqrt(50) = 7.07\n",
    "Margin of Error = 1.96 * 7.07 = 13.85\n",
    "\n",
    "Therefore, the 95% confidence interval for the population mean revenue is:\n",
    "\n",
    "500 ± 13.85, or (486.15, 513.85)\n",
    "\n",
    "We can be 95% confident that the true population mean revenue falls within this interval.'''\n"
   ]
  },
  {
   "cell_type": "code",
   "execution_count": null,
   "id": "a5909211-b513-40f9-a872-ff968ae0d2ed",
   "metadata": {},
   "outputs": [],
   "source": [
    "#Q14. A researcher hypothesizes that a new drug will decrease blood pressure by 10 mmHg. They conduct a\n",
    "#clinical trial with 100 patients and find that the sample mean decrease in blood pressure is 8 mmHg with a\n",
    "#standard deviation of 3 mmHg. Test the hypothesis with a significance level of 0.05.\n",
    "#ANS--\n",
    "'''The following values are given in the question:\n",
    "\n",
    "Population Mean = 10\n",
    "Sample Size = n = 100\n",
    "Sample Mean = 8\n",
    "Standard Deviation = 3\n",
    "Significance Level = 0.05\n",
    "Confidence Interval = 0.95\n",
    "\n",
    "My null and alternate hypothesis are as follows:\n",
    "\n",
    "Null Hypothesis = H0 => Population Mean = 10\n",
    "Alternate Hypothesis = H1 => Population Mean != 10\n",
    "\n",
    "From utilizing z-table i obgtained values for z-score:\n",
    "\n",
    "z-score = ± 1.96\n",
    "\n",
    "Then I utilized the z-test formula\n",
    "\n",
    "\n",
    "I got the following value:\n",
    "\n",
    "-0.66\n",
    "\n",
    "As -0.66 lies outside the region ± 1.96, that means it lies in the rejection region.\n",
    "So my final conclusion was:\n",
    "\n",
    "Reject the null hypothesis'''"
   ]
  },
  {
   "cell_type": "code",
   "execution_count": null,
   "id": "95475469-4848-4e8f-b37a-970b553d0a6f",
   "metadata": {},
   "outputs": [],
   "source": [
    "#Q15. An electronics company produces a certain type of product with a mean weight of 5 pounds and a\n",
    "#standard deviation of 0.5 pounds. A random sample of 25 products is taken, and the sample mean weight\n",
    "#is found to be 4.8 pounds. Test the hypothesis that the true mean weight of the products is less than 5\n",
    "#pounds with a significance level of 0.01.\n",
    "#ANS--\n",
    "'''An electronics company produces a certain type of product with a mean weight of 5 pounds and a standard deviation of 0.5 pounds. A random sample of 25 products is taken, and the sample mean weight is found to be 4.8 pounds. Test the hypothesis that the true mean weight of the products is less than 5 pounds with a significance level of 0.01.\n",
    "\n",
    "Answer:\n",
    "The following values are given in the question:\n",
    "\n",
    "Population Mean = 5\n",
    "Sample Size = n = 25\n",
    "Sample Mean = 4.8\n",
    "Standard Deviation = 0.5\n",
    "Significance Level = 0.01\n",
    "Confidence Interval = 0.99\n",
    "\n",
    "My null and alternate hypothesis are as follows:\n",
    "\n",
    "Null Hypothesis = H0 => Population Mean = 5\n",
    "Alternate Hypothesis = H1 => Population Mean < 5\n",
    "\n",
    "Then I utilized the z-test formula\n",
    "\n",
    "\n",
    "I got the following value:\n",
    "\n",
    "-2\n",
    "\n",
    "From utilizing z-table i obgtained values for z-score of -2:\n",
    "\n",
    "z-score = 0.02275\n",
    "\n",
    "Which also becomes my p-value:\n",
    "\n",
    "p-value = 0.02275\n",
    "\n",
    "Then i checked whether p-value < significance value\n",
    "\n",
    "0.02775 < 0.01\n",
    "False\n",
    "\n",
    "So my final conclusion was:\n",
    "\n",
    "Failed to reject null hypothesis\n",
    "'''"
   ]
  },
  {
   "cell_type": "code",
   "execution_count": null,
   "id": "e2c6aa12-ca6f-4ccd-b3cf-4ee4fa7ff02a",
   "metadata": {},
   "outputs": [],
   "source": [
    "#Q16. Two groups of students are given different study materials to prepare for a test. The first group (n1 =\n",
    "#30) has a mean score of 80 with a standard deviation of 10, and the second group (n2 = 40) has a mean\n",
    "#score of 75 with a standard deviation of 8. Test the hypothesis that the population means for the two groups are equal with a significance level of 0.01.\n",
    "#ANS--\n",
    "'''My null and alternate hypothesis are as follows:\n",
    "\n",
    "Null Hypothesis = H0 => Population Mean of Group 1 = Population Mean of Group 2\n",
    "Alternate Hypothesis = H1 => Population Mean of Group 1 != Population Mean of Group 2\n",
    "\n",
    "Then I utilized the two sample T-test formula\n",
    "\n",
    "I got the value of t as:\n",
    "\n",
    "t = 2.37\n",
    "\n",
    "Then I utilized t-table to look for the value of t for the following parameters:\n",
    "\n",
    "Degrees of Freedom = 68\n",
    "Significance Value = 0.01\n",
    "\n",
    "I got the following value of t fromt the table:\n",
    "\n",
    "t = ± 2.638\n",
    "\n",
    "Since 2.37 lies in the region ±2.638 so, the final conclusion was:\n",
    "\n",
    "Failed to reject null hypothesis\n",
    "Population mean for two groups are equal'''\n"
   ]
  },
  {
   "cell_type": "code",
   "execution_count": null,
   "id": "295ceaa7-b45c-4492-b1b8-11fa36d46222",
   "metadata": {},
   "outputs": [],
   "source": [
    "#Q17. A marketing company wants to estimate the average number of ads watched by viewers during a TV\n",
    "#program. They take a random sample of 50 viewers and find that the sample mean is 4 with a standard\n",
    "#deviation of 1.5. Estimate the population mean with a 99% confidence interval.\n",
    "\n",
    "#ANS--\n",
    "'''To estimate the population mean with a 99% confidence interval, we can use the following formula:\n",
    "\n",
    "CI = X̄ ± z*(σ/√n)\n",
    "\n",
    "Where:\n",
    "\n",
    "X̄ = sample mean (4)\n",
    "z = z-score corresponding to the confidence level (99%)\n",
    "σ = population standard deviation (1.5)\n",
    "n = sample size (50)\n",
    "\n",
    "To find the z-score, we can use a standard normal distribution table. For a 99% confidence level, the z-score is\n",
    "\n",
    "z-score = 2.576.\n",
    "\n",
    "Plugging in the values, we get:\n",
    "\n",
    "CI = 4 ± 2.576*(1.5/√50)\n",
    "CI = 4 ± 0.665\n",
    "\n",
    "Therefore, the 99% confidence interval for the population mean of the number of ads watched by viewers during a TV program is (3.335, 4.665). We are 99% confident that the true population mean falls within this interval.'''\n"
   ]
  }
 ],
 "metadata": {
  "kernelspec": {
   "display_name": "Python 3 (ipykernel)",
   "language": "python",
   "name": "python3"
  },
  "language_info": {
   "codemirror_mode": {
    "name": "ipython",
    "version": 3
   },
   "file_extension": ".py",
   "mimetype": "text/x-python",
   "name": "python",
   "nbconvert_exporter": "python",
   "pygments_lexer": "ipython3",
   "version": "3.12.1"
  }
 },
 "nbformat": 4,
 "nbformat_minor": 5
}
