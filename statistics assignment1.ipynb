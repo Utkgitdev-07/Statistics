{
 "cells": [
  {
   "cell_type": "code",
   "execution_count": 5,
   "id": "2a4ba519-b000-493c-8964-a5c66c5a4545",
   "metadata": {},
   "outputs": [],
   "source": [
    "#Q1. What is Statistics?\n",
    "\n",
    "#ANS-\n",
    "#Statistics in data science is the study of how to collect, analyze, interpret, and present data. \n",
    "#It is a branch of mathematics that deals with the analysis of data, which can be used to gain insights, make predictions, and inform decision-making.\n",
    "\n",
    "#In data science, statistics is used to summarize and describe data through measures such as mean, median, mode, and standard deviation. It is also used to test hypotheses and make inferences about populations based on samples of data. \n",
    "#Additionally, statistical models are used to make predictions and identify relationships between variables."
   ]
  },
  {
   "cell_type": "code",
   "execution_count": 4,
   "id": "06eab362-868d-4d62-9ea8-63775a682fa0",
   "metadata": {},
   "outputs": [],
   "source": [
    "#Q2. Define the different types of statistics and give an example of when each type might be used.\n",
    "#Ans--\n",
    "#There are two major types of Statistics:\n",
    "\n",
    "#1) Descriptive Statistics: Descriptive statistics involves the collection, analysis, and presentation of data to summarize and describe characteristics of a dataset. It is used to provide a concise and meaningful summary of data through measures such as central tendency, variability, and shape. Descriptive statistics is generally used when data is available for the entire population of interest, or when a sample is used to estimate population parameters.\n",
    "#Example of descriptive statistics: A researcher collects data on the heights of 100 students in a school. The researcher uses descriptive statistics to summarize the data by calculating the mean height, standard deviation, and creating a histogram to visualize the distribution of heights.\n",
    "\n",
    "#2) Inferential Statistics: Inferential statistics involves making predictions or generalizations about a population based on data from a sample. It is used to draw conclusions or test hypotheses about the population using the sample data. Inferential statistics is generally used when data is not available for the entire population, and a sample is used to make inferences about the population.\n",
    "#Example of inferential statistics: A company wants to determine whether a new product will be successful among its target market. The company collects a sample of data from a group of customers who have purchased the product and uses inferential statistics to determine whether the data supports the conclusion that the product will be successful among the entire target market.\n",
    "#The company may use techniques such as hypothesis testing, confidence intervals, or regression analysis to draw conclusions about the population.'''"
   ]
  },
  {
   "cell_type": "code",
   "execution_count": 6,
   "id": "3e2eb324-92fb-45eb-af27-e2ad3a7c2382",
   "metadata": {},
   "outputs": [],
   "source": [
    "#Q3. What are the different types of data and how do they differ from each other? Provide an example of each type of data.\n",
    "#Ans--\n",
    "#The two major types of data are:\n",
    "\n",
    "#1)-Quantitative Data: When data is collected about a variable that can be measured with numerical values, it is called quantitative data.\n",
    "#Examples of quantitative data include age, height, weight, and number of hours worked.\n",
    "\n",
    "#2)-Qualitative Data: When data is collected about a variable that represents categories or attributes, it is called qualitative data.\n",
    "#Examples of qualitative data include gender, occupation, color, and type of car.\n",
    "\n",
    "#Therefore, the type of data collected is determined by the nature of the variable being measured. If the variable is numeric, the resulting data will be quantitative. If the variable is categorical, the resulting data will be qualitative.\n",
    "#Both types of data play an important role in statistical analysis and can provide valuable insights depending on the research question and context."
   ]
  },
  {
   "cell_type": "code",
   "execution_count": 8,
   "id": "6af86d60-9d4f-498f-84ea-b2aa49f46c62",
   "metadata": {},
   "outputs": [],
   "source": [
    "#Q4. Categorise the following datasets with respect to quantitative and qualitative data types:\n",
    "#(i) Grading in exam: A+, A, B+, B, C+, C, D, E\n",
    "#(ii) Colour of mangoes: yellow, green, orange, red\n",
    "#(iii) Height data of a class: [178.9, 179, 179.5, 176, 177.2, 178.3, 175.8,...]\n",
    "#(iv) Number of mangoes exported by a farm: [500, 600, 478, 672, ...]\n",
    "\n",
    "#Ans--\n",
    "#Grading in exam: A+, A, B+, B, C+, C, D, E\n",
    "#Qualitative (Categorical) Data Type\n",
    "\n",
    "#Colour of mangoes: yellow, green, orange, red\n",
    "#Qualitative (Categorical) Data Type\n",
    "\n",
    "#Height data of a class: [178.9, 179, 179.5, 176, 177.2, 178.3, 175.8,...]\n",
    "#Quantitative (Continuous) Data Type\n",
    "\n",
    "#Number of mangoes exported by a farm: [500, 600, 478, 672, ...]\n",
    "#Quantitative (Discrete) Data Type"
   ]
  },
  {
   "cell_type": "code",
   "execution_count": 9,
   "id": "33924db2-bb63-406e-9b84-6b0d0098e90f",
   "metadata": {},
   "outputs": [],
   "source": [
    "#Q5. Explain the concept of levels of measurement and give an example of a variable for each level.\n",
    "#Ans--\n",
    "#1)-Nominal Level: You can categorize your data by labelling them in mutually exclusive groups, but there is no order between the categories.\n",
    "#Examples: City of birth, Gender, Ethnicity, Car brands, Marital status\n",
    "\n",
    "#2)-Ordinal Level: You can categorize and rank your data in an order, but you cannot say anything about the intervals between the rankings.\n",
    "#Although you can rank the top 5 Olympic medallists, this scale does not tell you how close or far apart they are in number of wins.\n",
    "\n",
    "#Examples: Top 5 Olympic medallists, Language ability (e.g., beginner, intermediate, fluent)\n",
    "\n",
    "#3)-Interval Level:\n",
    "#You can categorize, rank, and infer equal intervals between neighboring data points, but there is no true zero point.\n",
    "\n",
    "#For example, the difference between any two adjacent temperatures is the same: one degree. But zero degrees is defined differently depending on the scale – it doesn’t mean an absolute absence of temperature.\n",
    "#Other Examples: Test scores (e.g., IQ or exams), Personality inventories, Temperature in Fahrenheit or Celsius\n",
    "\n",
    "#4)-Ratio Level: You can categorize, rank, and infer equal intervals between neighboring data points, and there is a true zero point.\n",
    "#A true zero means there is an absence of the variable of interest. In ratio scales, zero does mean an absolute lack of the variable.\n",
    "\n",
    "#For example, in the Kelvin temperature scale, there are no negative degrees of temperature – zero means an absolute lack of thermal energy.\n",
    "#Other Exmaples: Height, Age, Weight"
   ]
  },
  {
   "cell_type": "code",
   "execution_count": null,
   "id": "f22aaf48-1afa-4fc6-af88-c1a492da6d74",
   "metadata": {},
   "outputs": [],
   "source": [
    "#Q6. Why is it important to understand the level of measurement when analyzing data? Provide an example to illustrate your answer.\n",
    "#Ans--\n",
    "'''Understanding the level of measurement is important when analyzing data because it determines the type of statistical analyses that can be performed on the data,\n",
    "as well as the appropriate way to interpret the results. \n",
    "Different types of statistical analysis are suited for different levels of measurement, \n",
    "and using an inappropriate analysis can result in inaccurate conclusions.\n",
    "\n",
    "If a variable is nominal, it is inappropriate to perform calculations such as mean or standard deviation, \n",
    "as these statistics are not meaningful for categorical data. Instead, appropriate measures for nominal data include frequency counts and percentages.\n",
    "If a variable is ordinal, it is appropriate to use measures such as median or mode, but not mean, as the ranking of the values does not necessarily correspond to equal intervals.\n",
    "If a variable is interval or ratio, all three measures (mean, median, and mode) can be used, \n",
    "as well as measures such as standard deviation and correlation.\n",
    "\n",
    "An example to illustrate the importance of understanding the level of measurement is the analysis of income data. \n",
    "If income is measured as a nominal variable with categories such as \"less than 20,000\", \"20,000 to 40,000\", and \"more than 40,000\",\n",
    "it would be inappropriate to calculate the mean income, as the categories do not represent equal intervals.\n",
    "Instead, appropriate measures would include the frequency counts and percentages of individuals in each income category. \n",
    "If income is measured as a ratio variable in dollars, the mean income can be calculated and compared across different groups or time periods,\n",
    "and statistical tests such as t-tests or ANOVA can be used to determine whether there are significant differences in income between groups.'''\n"
   ]
  },
  {
   "cell_type": "code",
   "execution_count": 10,
   "id": "a8772eec-4bc8-45aa-9d68-edb59c4cb8ac",
   "metadata": {},
   "outputs": [],
   "source": [
    "#Q7. How nominal data type is different from ordinal data type.\n",
    "#Ans--\n",
    "#Nominal data is a type of categorical data where the categories are unordered and do not have any inherent ranking or order.\n",
    "#Nominal data simply represents different categories or groups, without any implied order or hierarchy. \n",
    "#Examples of nominal data include gender (male/female), hair color (blonde, brown, black, etc.), or \n",
    "#political affiliation (Republican, Democrat, Independent, etc.).\n",
    "\n",
    "\n",
    "#Ordinal data, on the other hand, is also a type of categorical data, but the categories have a specific order or hierarchy. I\n",
    "#in other words, the categories can be ranked in a meaningful way. Examples of ordinal data include educational level \n",
    "#(e.g. high school, some college, bachelor's degree, master's degree, etc.), socioeconomic status (e.g. low, middle, high), or level of agreement \n",
    "#(e.g. strongly disagree, disagree, neutral, agree, strongly agree).\n",
    "\n",
    "#The main difference between nominal and ordinal data is that ordinal data has a specific order or ranking of the categories,\n",
    "#while nominal data does not."
   ]
  },
  {
   "cell_type": "code",
   "execution_count": 11,
   "id": "5a8981ea-f343-44f6-8587-83904fd011e2",
   "metadata": {},
   "outputs": [],
   "source": [
    "#Q8. Which type of plot can be used to display data in terms of range?\n",
    "#Ans--\n",
    "#A type of plot that can be used to display data in terms of range is a box plot (also known as a box-and-whisker plot). \n",
    "#A box plot is a graphical representation of the distribution of a set of continuous data, \n",
    "#using five summary statistics: the minimum value, the first quartile (Q1), the median, the third quartile (Q3), and the maximum value.\n",
    "\n",
    "#For example, a box plot could be used to display the range of temperatures recorded in a city over a given period of time. \n",
    "#The minimum and maximum values would be represented by the whiskers, and the box would represent the interquartile range (the middle 50% of the data). The median temperature would be represented by a line inside the box. This would allow for easy comparison of temperature ranges across different months or years, and also identify any unusually high or low temperatures as outliers.\n"
   ]
  },
  {
   "cell_type": "code",
   "execution_count": 12,
   "id": "e8413a66-a489-430e-a508-8ffe513c45d5",
   "metadata": {},
   "outputs": [],
   "source": [
    "#Q9. Describe the difference between descriptive and inferential statistics. Give an example of each type of statistics and explain how they are used.\n",
    "#Ans--\n",
    "#Descriptive statistics involves summarizing and describing the main features of a data set, such as measures of central tendency (mean, median, mode) and measures of dispersion (range, standard deviation, variance). \n",
    "#Descriptive statistics is used to provide a snapshot or summary of the data, in order to gain an understanding of the characteristics and patterns of the data set.\n",
    "\n",
    "#Examples of descriptive statistics include calculating the mean height of a group of people or the standard deviation of their weights.\n",
    "\n",
    "#Inferential statistics, on the other hand, involves using statistical methods to make inferences or draw conclusions about a population based on a sample of data.\n",
    "#Inferential statistics is used to test hypotheses or answer research questions, by making predictions or generalizations about a larger group based on a smaller subset of data.\n",
    "\n",
    "#Examples of inferential statistics include hypothesis testing, confidence intervals, and regression analysis."
   ]
  },
  {
   "cell_type": "code",
   "execution_count": null,
   "id": "e134dae4-c22d-451c-b64b-1bebd9be7315",
   "metadata": {},
   "outputs": [],
   "source": [
    "#Q10. What are some common measures of central tendency and variability used in statistics? Explain how each measure can be used to describe a dataset.\n",
    "#Ans--\n",
    "#Some of the common Measures of Central Tendency used in Statistics are:\n",
    "\n",
    "#Mean: The arithmetic mean, or average, is calculated by summing all the values in a dataset and dividing by the number of values. The mean is a useful measure of central tendency when the data is normally distributed and there are no extreme values or outliers.\n",
    "\n",
    "#Median: The median is the middle value in a dataset when the values are arranged in order. The median is useful when there are extreme values or outliers in the dataset, since it is not affected by these values in the same way as the mean.\n",
    "\n",
    "#Mode: The mode is the most common value in a dataset. The mode is useful when dealing with categorical data or discrete variables, where there may be several values that occur with the same frequency.\n",
    "\n",
    "#Some of the common Measures of Variability used in Statistics are:\n",
    "\n",
    "#1)-Range: The range is the difference between the largest and smallest values in a dataset. The range provides a simple measure of variability, but it can be sensitive to extreme values or outliers.\n",
    "\n",
    "#2)-Variance: The variance measures the average squared deviation from the mean in a dataset. The variance is useful when you want to quantify the spread of a dataset, and it is used in many statistical tests and models.\n",
    "\n",
    "#3)-Standard deviation: The standard deviation is the square root of the variance. \n",
    "#The standard deviation provides a more intuitive measure of variability, since it is in the same units as the original data."
   ]
  }
 ],
 "metadata": {
  "kernelspec": {
   "display_name": "Python 3 (ipykernel)",
   "language": "python",
   "name": "python3"
  },
  "language_info": {
   "codemirror_mode": {
    "name": "ipython",
    "version": 3
   },
   "file_extension": ".py",
   "mimetype": "text/x-python",
   "name": "python",
   "nbconvert_exporter": "python",
   "pygments_lexer": "ipython3",
   "version": "3.12.1"
  }
 },
 "nbformat": 4,
 "nbformat_minor": 5
}
